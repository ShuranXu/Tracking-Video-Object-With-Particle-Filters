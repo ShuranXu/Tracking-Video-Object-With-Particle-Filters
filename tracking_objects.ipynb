{
 "cells": [
  {
   "cell_type": "markdown",
   "metadata": {},
   "source": [
    "Tracking Objects in Video with Particle Filters\n",
    "==============================================="
   ]
  },
  {
   "cell_type": "markdown",
   "metadata": {},
   "source": [
    "Import libraries"
   ]
  },
  {
   "cell_type": "code",
   "execution_count": 1,
   "metadata": {},
   "outputs": [],
   "source": [
    "import numpy as np\n",
    "import cv2\n",
    "\n",
    "# Repeatability\n",
    "np.random.seed(0)\n",
    "\n",
    "VFILENAME = \"walking.mp4\"\n",
    "HEIGHT = 406\n",
    "WIDTH = 722"
   ]
  },
  {
   "cell_type": "markdown",
   "metadata": {},
   "source": [
    "Load video frames from file"
   ]
  },
  {
   "cell_type": "code",
   "execution_count": 2,
   "metadata": {},
   "outputs": [],
   "source": [
    "def get_frames(filename):\n",
    "    video = cv2.VideoCapture(filename)\n",
    "    while video.isOpened():\n",
    "        ret,frame = video.read()\n",
    "        if ret:\n",
    "            yield frame\n",
    "        else:\n",
    "            break\n",
    "    video.release()\n",
    "    yield None"
   ]
  },
  {
   "cell_type": "markdown",
   "metadata": {},
   "source": [
    "Creating a particle cloud"
   ]
  },
  {
   "cell_type": "code",
   "execution_count": 3,
   "metadata": {},
   "outputs": [],
   "source": [
    "NUM_PARTICLES = 200\n",
    "VEL_RANGE = 0.5 # the target is not moving faster then half of the pixel per frame\n",
    "def initialize_particles():\n",
    "    particles = np.random.rand(NUM_PARTICLES, 4) # 4 columns\n",
    "    # the first column is the x position,  we want to scale it up to the  width of the frame\n",
    "    # the second column is the y position, we want to scale it up to the height of the frame.\n",
    "    # The two other components are x,y's velocity components, and we scale them\n",
    "    #down to our initial velocity range\n",
    "    particles = particles * np.array( (WIDTH, HEIGHT, VEL_RANGE, VEL_RANGE))\n",
    "    # We want to centre the velocity around zero,  because particles have the \n",
    "    # probabiliy to go any direction, so they must be able to go positive or negative\n",
    "    particles[:,2:4] -= VEL_RANGE/2.0\n",
    "    # print top 20 rows \n",
    "    print(particles[:20,:])\n",
    "    return particles"
   ]
  },
  {
   "cell_type": "markdown",
   "metadata": {},
   "source": [
    "Moving particles according to their velocity state"
   ]
  },
  {
   "cell_type": "code",
   "execution_count": 4,
   "metadata": {},
   "outputs": [],
   "source": [
    "def apply_velocity(particles):\n",
    "    particles[:,0] += particles[:,2]\n",
    "    particles[:,1] += particles[:,3]\n",
    "    return particles"
   ]
  },
  {
   "cell_type": "markdown",
   "metadata": {},
   "source": [
    "Prevent particles from falling off the edge of the video frame"
   ]
  },
  {
   "cell_type": "code",
   "execution_count": 5,
   "metadata": {},
   "outputs": [],
   "source": [
    "def enforce_edges(particles):\n",
    "    for i in range(NUM_PARTICLES):\n",
    "        # we do WIDTH-1 is because the frame coordinate is zero-based, \n",
    "        # so for frame of 100-pixel width, you want to pixel to go from\n",
    "        # 0 to 99.\n",
    "        particles[i,0] = max(0, min(WIDTH-1, particles[i,0]))\n",
    "        particles[i,1] = max(0, min(HEIGHT-1, particles[i,1]))\n",
    "    return particles"
   ]
  },
  {
   "cell_type": "markdown",
   "metadata": {},
   "source": [
    "Measure each particle's quality"
   ]
  },
  {
   "cell_type": "code",
   "execution_count": 6,
   "metadata": {},
   "outputs": [],
   "source": [
    "# We choose a single pixel on the target to define the TARGET_COLOUR. \n",
    "# Most of the other pixels on the target will be blue but have slightly\n",
    "# different pixel values.  \n",
    "\n",
    "# The RGB values of the target in the video clip\n",
    "TARGET_COLOUR = np.array((156,74,38))\n",
    "\n",
    "def compute_errors(particles, frame):\n",
    "    errors = np.zeros(NUM_PARTICLES)\n",
    "    for i in range(NUM_PARTICLES):\n",
    "        x = int(particles[i,0])\n",
    "        y  = int(particles[i,1])\n",
    "        #  obtain the pixel values of the frame at (x,y)\n",
    "        pixel_color = frame[ y, x, : ]\n",
    "        # calculate the mean-squared difference\n",
    "        errors[i] = np.sum((TARGET_COLOUR  - pixel_color)**2)\n",
    "    return errors"
   ]
  },
  {
   "cell_type": "markdown",
   "metadata": {},
   "source": [
    "Assign weights to the particles based on their quality of match"
   ]
  },
  {
   "cell_type": "code",
   "execution_count": 7,
   "metadata": {},
   "outputs": [],
   "source": [
    "# we want to give more weights to paricles with smaller errors\n",
    "def compute_weights(errors):\n",
    "    weights = np.max(errors) - errors\n",
    "    # prevent the partiles from piling up along the edge\n",
    "    weights[\n",
    "        (particles[:,0] == 0) |\n",
    "        (particles[:,0] == WIDTH-1) |\n",
    "        (particles[:,1] == 0) |\n",
    "        (particles[:,1] == HEIGHT-1) \n",
    "    ] = 0.0\n",
    "    # square weights so that large weights get exaggerated. \n",
    "    weights = weights**4\n",
    "    return weights"
   ]
  },
  {
   "cell_type": "markdown",
   "metadata": {},
   "source": [
    "Resample particles according to their weights"
   ]
  },
  {
   "cell_type": "code",
   "execution_count": 8,
   "metadata": {},
   "outputs": [],
   "source": [
    "def resample(particles, weights):\n",
    "    # normalize all the weights and use the normalied weights as probabilities\n",
    "    probabilities = weights / np.sum(weights)\n",
    "    # resample particles according to these probabilities\n",
    "    # i.e. we are going to build  new particles array by sampling from the\n",
    "    # current particles. The ones with high weights get chosen many times\n",
    "    # and those with low weights might not be chosen at all.\n",
    "    index_numbers = np.random.choice(\n",
    "        NUM_PARTICLES, # where to sample from: 0 to NUM_PARTICLES-1\n",
    "        size=NUM_PARTICLES, # how many samples to take\n",
    "        p=probabilities) # probability distribution\n",
    "    \n",
    "    particles = particles[index_numbers, :]\n",
    "    \n",
    "    # we can determine the single best guess by calculating the mean\n",
    "    x = np.mean(particles[:,0])\n",
    "    y = np.mean(particles[:,1])\n",
    "    \n",
    "    return particles, (int(x),int(y))"
   ]
  },
  {
   "cell_type": "markdown",
   "metadata": {},
   "source": [
    "Fuzz the particles"
   ]
  },
  {
   "cell_type": "code",
   "execution_count": 9,
   "metadata": {},
   "outputs": [],
   "source": [
    "# We need to locate the target and keep tracking the target, even if the lighting\n",
    "# conditions change. The solution is to add noise. Noise can be used to express\n",
    "# the uncertainty of the target state. We will use Gaussian noise and to each\n",
    "# particle.\n",
    "\n",
    "# If the target changes in the next frame, some of the particles will have to \n",
    "# change in the same way. Thanks to the variations from the Gaussian errors added, \n",
    "# they will move along with the target. The other particles that do not move\n",
    "# with the target will have more color errors and get re-sampled. \n",
    "\n",
    "# Increasing the standard deviations of the noise will increase the variations in \n",
    "# our particles, and these can match the increased variations we are expecting\n",
    "# in the target state. \n",
    "\n",
    "# Note that raising the weights to a higher power just makes them more sensitive\n",
    "# to colour, and using more particles can express more uncertainly indeed, but\n",
    "# in a limited level.\n",
    "\n",
    "POS_SIGMA =  1.0 # standard deviation for the particle position: 1 pixel\n",
    "VEL_SIGMA = 0.5 # standard deviation for the particle velocity: 0.5 pixel\n",
    "def apply_noise(particles):\n",
    "    noise = np.concatenate(\n",
    "    (\n",
    "        # for x-position. The size of the output, which is the noise array\n",
    "        #  is size of (NUM_PARTICLES,1).\n",
    "        np.random.normal(0.0, POS_SIGMA, (NUM_PARTICLES,1)),\n",
    "        # for y-position\n",
    "        np.random.normal(0.0, POS_SIGMA, (NUM_PARTICLES,1)),\n",
    "        # for x-velocity\n",
    "        np.random.normal(0.0, VEL_SIGMA, (NUM_PARTICLES,1)),\n",
    "        # for y-velocity\n",
    "        np.random.normal(0.0, VEL_SIGMA, (NUM_PARTICLES,1)),\n",
    "    ),\n",
    "    axis=1)  # concatenate them column-wise\n",
    "    \n",
    "    particles += noise\n",
    "    return particles"
   ]
  },
  {
   "cell_type": "markdown",
   "metadata": {},
   "source": [
    "Display the video frames"
   ]
  },
  {
   "cell_type": "code",
   "execution_count": 10,
   "metadata": {},
   "outputs": [],
   "source": [
    "def display(frame, particles, location):\n",
    "    if len(particles) > 0:\n",
    "        for i in range(NUM_PARTICLES):\n",
    "            x = int(particles[i,0])\n",
    "            y = int(particles[i,1])\n",
    "            cv2.circle(frame,(x,y), 1, (0,255,0), 1)\n",
    "    if len(location) > 0:\n",
    "        cv2.circle(frame, location, 15, (0,0,255), 5)\n",
    "    cv2.imshow('frame', frame)\n",
    "    if cv2.waitKey(30) == 27:\n",
    "        if cv2.waitKey(0) == 27:\n",
    "            return True\n",
    "    return False"
   ]
  },
  {
   "cell_type": "markdown",
   "metadata": {},
   "source": [
    "Main routine"
   ]
  },
  {
   "cell_type": "code",
   "execution_count": 11,
   "metadata": {},
   "outputs": [
    {
     "name": "stdout",
     "output_type": "stream",
     "text": [
      "[[ 3.96243350e+02  2.90366883e+02  5.13816880e-02  2.24415915e-02]\n",
      " [ 3.05878765e+02  2.62233010e+02 -3.12063944e-02  1.95886500e-01]\n",
      " [ 6.95764513e+02  1.55677257e+02  1.45862519e-01  1.44474599e-02]\n",
      " [ 4.10128173e+02  3.75792235e+02 -2.14481971e-01 -2.06435350e-01]\n",
      " [ 1.45976830e+01  3.38043657e+02  1.39078375e-01  1.85006074e-01]\n",
      " [ 7.06562443e+02  3.24458377e+02 -1.92603189e-02  1.40264588e-01]\n",
      " [ 8.53941355e+01  2.59807935e+02 -1.78323356e-01  2.22334459e-01]\n",
      " [ 3.76774488e+02  1.68352748e+02 -1.17722194e-01  1.37116845e-01]\n",
      " [ 3.29340540e+02  2.30784183e+02 -2.40605100e-01  5.88177485e-02]\n",
      " [ 4.41933112e+02  2.50475203e+02  2.21874039e-01  9.09101496e-02]\n",
      " [ 2.59564704e+02  1.77434973e+02  9.88155980e-02 -2.19887264e-01]\n",
      " [ 4.81405569e+02  2.72278975e+02 -1.44808719e-01 -1.85536851e-01]\n",
      " [ 2.27739269e+02  1.47666573e+02  3.50983852e-02 -3.06992433e-02]\n",
      " [ 7.13605911e+02  4.14301932e+01 -1.45561622e-01 -1.69345241e-01]\n",
      " [ 4.71544211e+02  1.02836391e+02 -1.68446136e-02 -1.27787204e-01]\n",
      " [ 1.14776039e+02  4.48123073e+01  7.81647947e-02 -1.80908524e-01]\n",
      " [ 1.41932465e+02  1.49702419e+02  1.60496615e-01 -2.01449362e-01]\n",
      " [ 6.04996223e+02  3.90159536e+01  2.38229733e-01 -1.56743992e-02]\n",
      " [ 7.05221506e+02  2.45567281e+02  1.19631790e-01 -2.30406104e-01]\n",
      " [ 2.04186627e+02  4.87998039e+01 -1.01929901e-01 -1.90636141e-01]]\n"
     ]
    }
   ],
   "source": [
    "particles = initialize_particles()\n",
    "\n",
    "for frame in get_frames(VFILENAME):\n",
    "    if frame is None: break\n",
    "\n",
    "    particles = apply_velocity(particles)\n",
    "    particles = enforce_edges(particles)\n",
    "    errors = compute_errors(particles, frame)\n",
    "    weights = compute_weights(errors)\n",
    "    particles, location = resample(particles, weights)\n",
    "    particles = apply_noise(particles)\n",
    "    terminate = display(frame, particles, location)\n",
    "    if terminate:\n",
    "        break\n",
    "cv2.destroyAllWindows()\n"
   ]
  },
  {
   "cell_type": "code",
   "execution_count": null,
   "metadata": {},
   "outputs": [],
   "source": []
  }
 ],
 "metadata": {
  "kernelspec": {
   "display_name": "Python 3",
   "language": "python",
   "name": "python3"
  },
  "language_info": {
   "codemirror_mode": {
    "name": "ipython",
    "version": 3
   },
   "file_extension": ".py",
   "mimetype": "text/x-python",
   "name": "python",
   "nbconvert_exporter": "python",
   "pygments_lexer": "ipython3",
   "version": "3.6.9"
  }
 },
 "nbformat": 4,
 "nbformat_minor": 4
}
